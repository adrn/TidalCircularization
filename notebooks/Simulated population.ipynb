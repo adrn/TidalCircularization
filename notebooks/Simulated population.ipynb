{
 "cells": [
  {
   "cell_type": "code",
   "execution_count": null,
   "metadata": {},
   "outputs": [],
   "source": [
    "import glob\n",
    "from os import path\n",
    "import re\n",
    "\n",
    "from astropy.table import QTable\n",
    "from astropy.constants import G\n",
    "import astropy.units as u\n",
    "import numpy as np\n",
    "import matplotlib as mpl\n",
    "import matplotlib.pyplot as plt\n",
    "%matplotlib inline\n",
    "from scipy.integrate import simps\n",
    "from tqdm import tqdm\n",
    "\n",
    "from twoface.mass import period_at_surface, stellar_radius\n",
    "\n",
    "import mesa_reader as mr\n",
    "\n",
    "from helpers import (MESAHelper, MatchedSimulatedSample, \n",
    "                     compute_dlne, solve_final_ea)"
   ]
  },
  {
   "cell_type": "markdown",
   "metadata": {},
   "source": [
    "### Load the MESA models"
   ]
  },
  {
   "cell_type": "code",
   "execution_count": null,
   "metadata": {},
   "outputs": [],
   "source": [
    "mesa = MESAHelper('../mesa/')"
   ]
  },
  {
   "cell_type": "markdown",
   "metadata": {},
   "source": [
    "### Load the data"
   ]
  },
  {
   "cell_type": "code",
   "execution_count": null,
   "metadata": {},
   "outputs": [],
   "source": [
    "unimodal = QTable.read('../../twoface/paper/1-catalog/tables/highK-unimodal.fits', \n",
    "                       character_as_bytes=False)\n",
    "clean_uni = unimodal[ (unimodal['clean_flag'] == 0)]\n",
    "high_logg = clean_uni[clean_uni['LOGG'] > 2]"
   ]
  },
  {
   "cell_type": "code",
   "execution_count": null,
   "metadata": {},
   "outputs": [],
   "source": [
    "(np.nanmedian(high_logg['M1']), \n",
    " np.nanmedian(high_logg['M2_min']), \n",
    " np.median(high_logg['LOGG'][high_logg['LOGG'] > -999]))"
   ]
  },
  {
   "cell_type": "markdown",
   "metadata": {},
   "source": [
    "### Plot the stellar evolution curves"
   ]
  },
  {
   "cell_type": "code",
   "execution_count": null,
   "metadata": {},
   "outputs": [],
   "source": [
    "cmap = plt.get_cmap('rainbow_r')\n",
    "norm = mpl.colors.Normalize(vmin=0.8, vmax=3)\n",
    "\n",
    "fig, ax = plt.subplots(1, 1, figsize=(5, 5))\n",
    "for k in sorted(mesa.h.keys()):\n",
    "    h = mesa.h[k]\n",
    "    min_idx = h.log_R.argmin()\n",
    "    slc = slice(min_idx, None)\n",
    "    ax.plot(h.Teff[slc], h.log_g[slc], \n",
    "            marker='', label=r'${0}\\,{{\\rm M}}_\\odot$'.format(k),\n",
    "            linewidth=2, alpha=0.8, \n",
    "            color=cmap(norm(float(k))))\n",
    "    \n",
    "ax.set_ylim(5, -0.1)\n",
    "ax.set_xlim(13000, 3000)\n",
    "ax.legend(loc='upper left', fontsize=12, borderaxespad=1.)\n",
    "\n",
    "ax.set_xlabel(r'$T_{\\rm eff}$ [K]')\n",
    "ax.set_ylabel(r'$\\log g$')\n",
    "\n",
    "fig.tight_layout()\n",
    "\n",
    "fig.savefig('../paper/figures/mesa.pdf')"
   ]
  },
  {
   "cell_type": "markdown",
   "metadata": {},
   "source": [
    "## Generate a fake population of binaries"
   ]
  },
  {
   "cell_type": "code",
   "execution_count": null,
   "metadata": {},
   "outputs": [],
   "source": [
    "s = MatchedSimulatedSample(logg=high_logg['LOGG'],\n",
    "                           M1=high_logg['M1'],\n",
    "                           M2=high_logg['M2_min'],\n",
    "                           mesa_helper=mesa,\n",
    "                           seed=42)"
   ]
  },
  {
   "cell_type": "code",
   "execution_count": null,
   "metadata": {},
   "outputs": [],
   "source": [
    "t = s.generate_sample(size=1024)"
   ]
  },
  {
   "cell_type": "code",
   "execution_count": null,
   "metadata": {},
   "outputs": [],
   "source": [
    "fig, axes = plt.subplots(1, 4, figsize=(15, 5))\n",
    "\n",
    "ax = axes[0]\n",
    "ax.scatter(t['P'], t['e'], marker='.')\n",
    "ax.scatter(high_logg['P'], high_logg['e'], marker='.')\n",
    "\n",
    "ax.set_xscale('log')\n",
    "ax.set_ylim(0, 1)\n",
    "ax.set_xlabel('$P$')\n",
    "ax.set_ylabel('$e$')\n",
    "\n",
    "_, bins, _ = axes[1].hist(t['M1_orig'], bins='auto', alpha=0.5, normed=True);\n",
    "axes[1].hist(high_logg['M1'][np.isfinite(high_logg['M1'])], bins='auto', alpha=0.5, normed=True);\n",
    "axes[1].set_xlabel('$M_1$')\n",
    "\n",
    "bins = np.linspace(0.01, 1.5, 10)\n",
    "axes[2].hist(t['M2']/t['M1_orig'], bins=bins, normed=True);\n",
    "axes[2].hist(high_logg['M2_min'][np.isfinite(high_logg['M2_min'])] / high_logg['M1'][np.isfinite(high_logg['M2_min'])], \n",
    "             bins='auto', alpha=0.5, normed=True);\n",
    "axes[2].set_xlabel('$q$')\n",
    "\n",
    "_, bins, _ = axes[3].hist(t['logg'], bins='auto', alpha=0.5, normed=True);\n",
    "axes[3].hist(high_logg['LOGG'], bins='auto', alpha=0.5, normed=True);\n",
    "axes[3].set_xlabel(r'$\\log g$')\n",
    "\n",
    "fig.tight_layout()"
   ]
  },
  {
   "cell_type": "code",
   "execution_count": null,
   "metadata": {},
   "outputs": [],
   "source": [
    "_, bins, _ = plt.hist(t['M1_orig'].value, bins='auto', normed=True) #, h_Mstr[np.abs(h_M - t['M1'].value[i]).argmin()]\n",
    "plt.hist(high_logg['M1'][np.isfinite(high_logg['M1'])], bins='auto', normed=True);\n",
    "plt.hist(t['M1'], bins=bins, normed=True);"
   ]
  },
  {
   "cell_type": "markdown",
   "metadata": {},
   "source": [
    "## Now simulate circularization:"
   ]
  },
  {
   "cell_type": "code",
   "execution_count": null,
   "metadata": {},
   "outputs": [],
   "source": [
    "dlnes = []\n",
    "for row in tqdm(t):\n",
    "    dlne = compute_dlne(row['logg'], M1=row['M1'], M2=row['M2'], a=row['a'], \n",
    "                        mesa_helper=mesa)\n",
    "    dlnes.append(dlne)\n",
    "    \n",
    "t['dlne'] = dlnes\n",
    "t['e_f'] = np.exp(np.log(t['e']) + t['dlne'])\n",
    "\n",
    "# mask = (t['a'] * (1 - t['e_f'])) < t['R1']\n",
    "# t['e_f'][mask] = np.nan"
   ]
  },
  {
   "cell_type": "code",
   "execution_count": null,
   "metadata": {},
   "outputs": [],
   "source": [
    "fig, ax = plt.subplots(1, 1, figsize=(6, 5))\n",
    "ax.scatter(-t['dlne'], t['e_f'])\n",
    "ax.set_xscale('log')\n",
    "ax.set_xlim(1E6, 1E-12)"
   ]
  },
  {
   "cell_type": "code",
   "execution_count": null,
   "metadata": {},
   "outputs": [],
   "source": [
    "def plot_simulated_P_e(t, e_col='e_f', P_col='P'):\n",
    "    fig, axes = plt.subplots(1, 3, figsize=(14, 5.5), sharey=True)\n",
    "    \n",
    "    cmap = plt.get_cmap('inferno')\n",
    "    style = dict(marker='o', edgecolor='#555555', linewidth=0.5,\n",
    "                 alpha=0.5, vmin=2, vmax=4, cmap=cmap,\n",
    "                 s=30, c=t['logg'], rasterized=True)\n",
    "    \n",
    "    P_surf = period_at_surface(t['M1'], t['logg'], t[e_col], t['M2'])\n",
    "    \n",
    "    # Actually plot the markers\n",
    "    cs = axes[0].scatter(t['P'], t['e'], **style)\n",
    "    axes[1].scatter(t[P_col], t[e_col], **style)\n",
    "    axes[2].scatter(t[P_col]/P_surf, t[e_col], **style)\n",
    "    \n",
    "    # Label all the things\n",
    "    axes[0].set_ylabel(r'$e$')\n",
    "    axes[0].set_xlabel(r'$P$ [day]')\n",
    "    axes[1].set_xlabel(r'$P$ [day]')\n",
    "    axes[2].set_xlabel(r'$P/P_{\\rm surface}$')\n",
    "    \n",
    "    axes[0].set_title('initial')\n",
    "    axes[1].set_title('final')\n",
    "    axes[2].set_title('final')\n",
    "    \n",
    "    # Scales, lims, ticks:\n",
    "    for ax in axes:\n",
    "        ax.set_xscale('log')\n",
    "        \n",
    "    axes[0].set_ylim(-0.05, 1)\n",
    "    loc = mpl.ticker.LogLocator(numticks=10)\n",
    "    for ax in axes[:2]:\n",
    "        ax.xaxis.set_ticks(10**np.arange(-1, 4+0.1))\n",
    "        ax.xaxis.set_ticks(np.concatenate([x*np.arange(1, 10+1) for x in ax.get_xticks()[:-1]]), minor=True)\n",
    "        ax.set_xlim(8E-1, 1E4)\n",
    "\n",
    "    axes[2].xaxis.set_ticks(10**np.arange(-1, 4+0.1))\n",
    "    axes[2].xaxis.set_ticks(np.concatenate([x*np.arange(1, 10+1) for x in ax.get_xticks()[:-1]]), minor=True)\n",
    "    axes[2].set_xlim(8E-1, 1.5E3)\n",
    "\n",
    "    # Colorbar\n",
    "    cax = fig.add_axes([0.865, 0.165, 0.02, 0.615])\n",
    "    cb = fig.colorbar(cs, cax=cax)\n",
    "    cb.ax.xaxis.set_ticks_position('top')\n",
    "    cb.ax.xaxis.set_label_position('top')\n",
    "    cb.set_label(r'$\\log g$', labelpad=10)\n",
    "    cb.solids.set_rasterized(True) \n",
    "    cb.solids.set_edgecolor('face')\n",
    "    cb.set_ticks(np.arange(2, 4+0.1, 0.5))\n",
    "    cb.ax.invert_yaxis()\n",
    "\n",
    "    fig.tight_layout()\n",
    "    fig.subplots_adjust(top=0.78, right=0.85, wspace=0.1)\n",
    "    fig.set_facecolor('w')\n",
    "    \n",
    "    fig.suptitle(r'${\\bf Simulated\\,\\,binaries}$', y=0.94, x=0.45, fontsize=26)\n",
    "    \n",
    "    return fig"
   ]
  },
  {
   "cell_type": "code",
   "execution_count": null,
   "metadata": {},
   "outputs": [],
   "source": [
    "fig = plot_simulated_P_e(t)\n",
    "fig.savefig('../paper/figures/simulated.pdf', rasterized=True, dpi=250)"
   ]
  },
  {
   "cell_type": "markdown",
   "metadata": {},
   "source": [
    "---\n",
    "\n",
    "## Try solving de/dt and da/dt simultaneously"
   ]
  },
  {
   "cell_type": "code",
   "execution_count": null,
   "metadata": {},
   "outputs": [],
   "source": [
    "t2 = t.copy()"
   ]
  },
  {
   "cell_type": "code",
   "execution_count": null,
   "metadata": {},
   "outputs": [],
   "source": [
    "efs = []\n",
    "afs = []\n",
    "for row in tqdm(t2):\n",
    "    ef, af = solve_final_ea(row['e'], row['a'], row['logg'], \n",
    "                            row['M1'], row['M2'], mesa)\n",
    "    efs.append(ef)\n",
    "    afs.append(af)\n",
    "\n",
    "efs = np.array(efs)\n",
    "afs = u.Quantity(afs).to(u.au)\n",
    "t2['e_f'] = efs\n",
    "t2['a_f'] = afs\n",
    "t2['P_f'] = 2*np.pi * np.sqrt(t2['a_f']**3 / (G * (t2['M1'] + t2['M2']))).to(u.day)"
   ]
  },
  {
   "cell_type": "code",
   "execution_count": null,
   "metadata": {},
   "outputs": [],
   "source": [
    "fig = plot_simulated_P_e(t2, P_col='P_f')"
   ]
  },
  {
   "cell_type": "markdown",
   "metadata": {},
   "source": [
    "Conclusion: solving both $a$ and $e$ looks almost the same as the simpler case!"
   ]
  },
  {
   "cell_type": "code",
   "execution_count": null,
   "metadata": {},
   "outputs": [],
   "source": [
    "plt.figure(figsize=(5,5))\n",
    "plt.scatter(t['P'], t2['P_f'])\n",
    "plt.xscale('log')\n",
    "plt.yscale('log')\n",
    "plt.xlim(1E0, 1E4)\n",
    "plt.ylim(1E0, 1E4)"
   ]
  },
  {
   "cell_type": "code",
   "execution_count": null,
   "metadata": {},
   "outputs": [],
   "source": [
    "plt.figure(figsize=(5,5))\n",
    "plt.scatter(t['e_f'], t2['e_f'])"
   ]
  },
  {
   "cell_type": "code",
   "execution_count": null,
   "metadata": {},
   "outputs": [],
   "source": []
  }
 ],
 "metadata": {
  "kernelspec": {
   "display_name": "Python [conda env:twoface]",
   "language": "python",
   "name": "conda-env-twoface-py"
  },
  "language_info": {
   "codemirror_mode": {
    "name": "ipython",
    "version": 3
   },
   "file_extension": ".py",
   "mimetype": "text/x-python",
   "name": "python",
   "nbconvert_exporter": "python",
   "pygments_lexer": "ipython3",
   "version": "3.6.2"
  }
 },
 "nbformat": 4,
 "nbformat_minor": 2
}