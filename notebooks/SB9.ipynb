{
 "cells": [
  {
   "cell_type": "code",
   "execution_count": null,
   "metadata": {},
   "outputs": [],
   "source": [
    "import os\n",
    "from os import path\n",
    "\n",
    "# Third-party\n",
    "import astropy.coordinates as coord\n",
    "from astropy.constants import G\n",
    "from astropy.io import fits, ascii\n",
    "from astropy.stats import median_absolute_deviation\n",
    "from astropy.table import Table, QTable, join\n",
    "from astropy.time import Time\n",
    "import astropy.units as u\n",
    "import matplotlib as mpl\n",
    "import matplotlib.pyplot as plt\n",
    "from matplotlib.gridspec import GridSpec\n",
    "import numpy as np\n",
    "%matplotlib inline\n",
    "import h5py\n",
    "import pandas as pd\n",
    "from sqlalchemy import func\n",
    "import tqdm\n",
    "from scipy.stats import beta\n",
    "\n",
    "from thejoker import JokerSamples\n",
    "\n",
    "from twoface.config import TWOFACE_CACHE_PATH\n",
    "from twoface.samples_analysis import MAP_sample\n",
    "from twoface.db import (db_connect, AllStar, AllVisit, AllVisitToAllStar, NessRG,\n",
    "                        StarResult, Status, JokerRun)\n",
    "from twoface.plot import plot_two_panel, plot_phase_fold\n",
    "from twoface.mass import get_m2_min, mf, period_at_surface, asini"
   ]
  },
  {
   "cell_type": "code",
   "execution_count": null,
   "metadata": {},
   "outputs": [],
   "source": [
    "spt = Table.read('../data/EEM_dwarf_UBVIJHK_colors_Teff.txt', \n",
    "                 format='ascii.commented_header', header_start=21)\n",
    "spt = spt[np.isfinite(spt['Msun'])]"
   ]
  },
  {
   "cell_type": "code",
   "execution_count": null,
   "metadata": {},
   "outputs": [],
   "source": [
    "sb9 = QTable.read('../../twoface/data/sb9.fit')\n",
    "sb9_orb = QTable.read('../../twoface/data/sb9_orbits.fit')\n",
    "sb9 = join(sb9, sb9_orb, keys='Seq')\n",
    "sb9_dwarf = sb9[np.array(['V' in s and 'IV' not in s and s[:3] in spt['SpT'] for s in sb9['Sp1']])]\n",
    "sb9_dwarf = sb9_dwarf[sb9_dwarf['Grade'] >= 4]\n",
    "# sb9_giant = sb9[np.array(['III' in s and 'IV' not in s for s in sb9['Sp1']])]"
   ]
  },
  {
   "cell_type": "code",
   "execution_count": null,
   "metadata": {},
   "outputs": [],
   "source": [
    "sb9_dwarf['M1'] = [float(spt['Msun'][spt['SpT'] == x[:3]]) for x in sb9_dwarf['Sp1']]\n",
    "sb9_dwarf['M2'] = [float(spt['Msun'][spt['SpT'] == x[:3]]) if x[:3] in spt['SpT'] else 0 for x in sb9_dwarf['Sp2']]\n",
    "sb9_dwarf['R1'] = [float(spt['R_Rsun'][spt['SpT'] == x[:3]]) for x in sb9_dwarf['Sp1']]\n",
    "sb9_dwarf['logg'] = np.log10((G * sb9_dwarf['M1']*u.Msun / (sb9_dwarf['R1']*u.Rsun)**2).to(u.cm/u.s**2).value)"
   ]
  },
  {
   "cell_type": "code",
   "execution_count": null,
   "metadata": {},
   "outputs": [],
   "source": [
    "P_surf = period_at_surface(sb9_dwarf['M1']*u.Msun, sb9_dwarf['logg'], sb9_dwarf['e'],\n",
    "                           M2=sb9_dwarf['M2']*u.Msun)\n",
    "P = sb9_dwarf['Per']"
   ]
  },
  {
   "cell_type": "code",
   "execution_count": null,
   "metadata": {},
   "outputs": [],
   "source": [
    "fig, ax = plt.subplots(1, 1, figsize=(8, 6))\n",
    "\n",
    "P_ratio = (P/P_surf).decompose()\n",
    "err_P_ratio = P_ratio * np.sqrt((sb9_dwarf['e_Per'] / sb9_dwarf['Per'])**2 + (0.05)**2)\n",
    "\n",
    "ax.scatter(P_ratio, sb9_dwarf['e'], alpha=0.5, linewidth=0)\n",
    "ax.errorbar(P_ratio, sb9_dwarf['e'], \n",
    "            xerr=err_P_ratio,\n",
    "            yerr=sb9_dwarf['e_e'], \n",
    "            alpha=0.5, marker='', linestyle='none')\n",
    "ax.set_xscale('log')\n",
    "ax.set_xlim(5e-1, 1e3)\n",
    "ax.set_ylim(-0.02, 1.02)"
   ]
  },
  {
   "cell_type": "code",
   "execution_count": null,
   "metadata": {},
   "outputs": [],
   "source": [
    "fig, ax = plt.subplots(1, 1, figsize=(8, 6))\n",
    "ax.scatter(P, sb9_dwarf['e'], alpha=0.5, linewidth=0)\n",
    "ax.set_xscale('log')\n",
    "ax.set_xlim(0.1, 1e4)"
   ]
  },
  {
   "cell_type": "code",
   "execution_count": null,
   "metadata": {},
   "outputs": [],
   "source": []
  }
 ],
 "metadata": {
  "kernelspec": {
   "display_name": "Python [conda env:twoface]",
   "language": "python",
   "name": "conda-env-twoface-py"
  },
  "language_info": {
   "codemirror_mode": {
    "name": "ipython",
    "version": 3
   },
   "file_extension": ".py",
   "mimetype": "text/x-python",
   "name": "python",
   "nbconvert_exporter": "python",
   "pygments_lexer": "ipython3",
   "version": "3.6.2"
  }
 },
 "nbformat": 4,
 "nbformat_minor": 2
}