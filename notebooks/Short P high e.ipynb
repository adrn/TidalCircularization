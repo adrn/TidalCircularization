{
 "cells": [
  {
   "cell_type": "code",
   "execution_count": null,
   "metadata": {},
   "outputs": [],
   "source": [
    "from os import path\n",
    "\n",
    "# Third-party\n",
    "from astropy.constants import G\n",
    "from astropy.io import fits, ascii\n",
    "from astropy.stats import median_absolute_deviation\n",
    "from astropy.table import Table, QTable, join\n",
    "import astropy.units as u\n",
    "import matplotlib as mpl\n",
    "import matplotlib.pyplot as plt\n",
    "from matplotlib.gridspec import GridSpec\n",
    "import numpy as np\n",
    "%matplotlib inline\n",
    "from tqdm import tqdm\n",
    "\n",
    "from twoface.db import (db_connect, AllStar, AllVisit, AllVisitToAllStar, NessRG,\n",
    "                        StarResult, Status, JokerRun)\n",
    "from twoface.plot import plot_two_panel, plot_phase_fold\n",
    "from twoface.mass import get_m2_min, mf, period_at_surface, asini, stellar_radius\n",
    "from twoface.log import log as logger\n",
    "logger.setLevel(100)\n",
    "\n",
    "import mesa_reader as mr\n",
    "from helpers import tcirc_inv, compute_dlne, MESAHelper"
   ]
  },
  {
   "cell_type": "code",
   "execution_count": null,
   "metadata": {},
   "outputs": [],
   "source": [
    "plot_path = '../paper/figures/'\n",
    "# table_path = '../data/'\n",
    "table_path = '../../twoface/paper/1-catalog/tables/'"
   ]
  },
  {
   "cell_type": "code",
   "execution_count": null,
   "metadata": {},
   "outputs": [],
   "source": [
    "unimodal = QTable.read(path.join(table_path, 'highK-unimodal.fits'), character_as_bytes=False)\n",
    "clean_uni = unimodal[(unimodal['clean_flag'] == 0)]\n",
    "high_logg = clean_uni[clean_uni['LOGG'] > 2]\n",
    "print('{0} unimodal, {1} clean, {2} high logg'\n",
    "      .format(len(unimodal), len(clean_uni), len(high_logg)))"
   ]
  },
  {
   "cell_type": "code",
   "execution_count": null,
   "metadata": {},
   "outputs": [],
   "source": [
    "P_surf = period_at_surface(1.36*u.Msun, high_logg['LOGG'], \n",
    "                           high_logg['e'], 0.5*u.Msun)\n",
    "P_ratio = high_logg['P'] / P_surf"
   ]
  },
  {
   "cell_type": "code",
   "execution_count": null,
   "metadata": {},
   "outputs": [],
   "source": [
    "broad_mask = np.array(['BROAD_LINES' in x for x in high_logg['STARFLAGS']])\n",
    "broad_mask.sum()"
   ]
  },
  {
   "cell_type": "code",
   "execution_count": null,
   "metadata": {},
   "outputs": [],
   "source": [
    "mask = (P_ratio < 6.) & (high_logg['e'] > 0.1)\n",
    "mask.sum()"
   ]
  },
  {
   "cell_type": "code",
   "execution_count": null,
   "metadata": {},
   "outputs": [],
   "source": [
    "fig, ax = plt.subplots(1, 1)\n",
    "ax.scatter(P_ratio, high_logg['e'])\n",
    "ax.scatter(P_ratio[mask], high_logg['e'][mask])\n",
    "ax.scatter(P_ratio[broad_mask], high_logg['e'][broad_mask])\n",
    "ax.set_ylim(-0.05, 1)\n",
    "ax.set_xlim(0.7, 1000)\n",
    "ax.set_xscale('log')"
   ]
  },
  {
   "cell_type": "code",
   "execution_count": null,
   "metadata": {},
   "outputs": [],
   "source": [
    "high_logg['APOGEE_ID', 'LOGG', 'P', 'e', 'TARGFLAGS'][mask]"
   ]
  },
  {
   "cell_type": "code",
   "execution_count": null,
   "metadata": {},
   "outputs": [],
   "source": [
    "high_logg['APOGEE_ID', 'LOGG', 'TEFF', 'P', 'e'][mask & (~broad_mask)]"
   ]
  },
  {
   "cell_type": "code",
   "execution_count": null,
   "metadata": {},
   "outputs": [],
   "source": []
  },
  {
   "cell_type": "code",
   "execution_count": null,
   "metadata": {},
   "outputs": [],
   "source": []
  }
 ],
 "metadata": {
  "kernelspec": {
   "display_name": "Python [conda env:twoface]",
   "language": "python",
   "name": "conda-env-twoface-py"
  },
  "language_info": {
   "codemirror_mode": {
    "name": "ipython",
    "version": 3
   },
   "file_extension": ".py",
   "mimetype": "text/x-python",
   "name": "python",
   "nbconvert_exporter": "python",
   "pygments_lexer": "ipython3",
   "version": "3.6.4"
  }
 },
 "nbformat": 4,
 "nbformat_minor": 2
}