{
 "cells": [
  {
   "cell_type": "code",
   "execution_count": null,
   "metadata": {},
   "outputs": [],
   "source": [
    "from astropy.constants import G\n",
    "import astropy.units as u\n",
    "import numpy as np\n",
    "from twoface.mass import stellar_radius, period_at_surface"
   ]
  },
  {
   "cell_type": "code",
   "execution_count": null,
   "metadata": {},
   "outputs": [],
   "source": [
    "def Pcirc(t, M1, R1=None, logg=None):\n",
    "    if logg is not None:\n",
    "        R1 = stellar_radius(logg, M1)\n",
    "        \n",
    "    rho = M1 / (4/3 * np.pi * R1**3)\n",
    "    rho_sun = u.Msun / (4/3 * np.pi * u.Rsun**3)\n",
    "    return (5.9*u.day * (rho/rho_sun)**(-1/2) * (t / (16*u.Gyr))**(3/16)).to(u.day)\n",
    "\n",
    "def tcirc(P, M1, R1=None, logg=None):\n",
    "    if logg is not None:\n",
    "        R1 = stellar_radius(logg, M1)\n",
    "        \n",
    "    rho = M1 / (4/3 * np.pi * R1**3)\n",
    "    rho_sun = u.Msun / (4/3 * np.pi * u.Rsun**3)\n",
    "    return 9E10*u.yr * (rho/rho_sun)**(8/3) * (P/(10*u.day))**(16/3)"
   ]
  },
  {
   "cell_type": "code",
   "execution_count": null,
   "metadata": {},
   "outputs": [],
   "source": [
    "M1 = 1.36 * u.Msun\n",
    "logg = 3.5\n",
    "\n",
    "for age in [1, 2, 5, 10] * u.Gyr:\n",
    "    R1 = stellar_radius(logg, M1)\n",
    "    print(R1)\n",
    "\n",
    "    P1 = Pcirc(age, M1, logg=logg)\n",
    "    print(\"Pcirc: {:.2f}\".format(P1))\n",
    "\n",
    "    P2 = period_at_surface(M1, logg, 0.5, 0.5*u.Msun)\n",
    "    print(\"Psurf: {:.2f}\".format(P2))\n",
    "\n",
    "    print(\"ratio: {:.2f}\".format(P1/P2))\n",
    "    print()"
   ]
  },
  {
   "cell_type": "code",
   "execution_count": null,
   "metadata": {},
   "outputs": [],
   "source": [
    "M1 = 1.36 * u.Msun\n",
    "P = 100 * u.day\n",
    "for logg in np.linspace(4, 2, 8):\n",
    "    R1 = stellar_radius(logg, M1)\n",
    "    P = 10 * period_at_surface(M1, logg, e=0.5)\n",
    "    print(\"logg={:.2f}, tcirc @ {:.0f}: {:.2e}\".format(logg, P, tcirc(P, M1, logg=logg)))"
   ]
  },
  {
   "cell_type": "code",
   "execution_count": null,
   "metadata": {},
   "outputs": [],
   "source": [
    "def ratio(t, M1, R1=None, logg=None):\n",
    "    if logg is not None:\n",
    "        R1 = stellar_radius(logg, M1)\n",
    "        \n",
    "    rho = M1 / (4/3 * np.pi * R1**3)\n",
    "    rho_sun = u.Msun / (4/3 * np.pi * u.Rsun**3)\n",
    "    Pcirc = 6*u.day * (rho/rho_sun)**(-1/2) * (t / (16*u.Gyr))**(3/16)\n",
    "    Psurf = 2*np.pi * R1**(3/2.) / np.sqrt(G*M1)\n",
    "    return (Pcirc / Psurf).decompose()"
   ]
  },
  {
   "cell_type": "code",
   "execution_count": null,
   "metadata": {},
   "outputs": [],
   "source": [
    "ratio(t=1*u.Gyr, M1=1.5*u.Msun, logg=2) "
   ]
  },
  {
   "cell_type": "code",
   "execution_count": null,
   "metadata": {},
   "outputs": [],
   "source": []
  },
  {
   "cell_type": "code",
   "execution_count": null,
   "metadata": {},
   "outputs": [],
   "source": []
  }
 ],
 "metadata": {
  "kernelspec": {
   "display_name": "Python [conda env:twoface]",
   "language": "python",
   "name": "conda-env-twoface-py"
  },
  "language_info": {
   "codemirror_mode": {
    "name": "ipython",
    "version": 3
   },
   "file_extension": ".py",
   "mimetype": "text/x-python",
   "name": "python",
   "nbconvert_exporter": "python",
   "pygments_lexer": "ipython3",
   "version": "3.6.2"
  }
 },
 "nbformat": 4,
 "nbformat_minor": 2
}