{
 "cells": [
  {
   "cell_type": "code",
   "execution_count": null,
   "metadata": {},
   "outputs": [],
   "source": [
    "import os\n",
    "from os import path\n",
    "\n",
    "# Third-party\n",
    "from astropy.constants import G\n",
    "from astropy.io import fits, ascii\n",
    "from astropy.stats import median_absolute_deviation, LombScargle\n",
    "from astropy.time import Time\n",
    "from astropy.table import Table, QTable, join\n",
    "import astropy.units as u\n",
    "import matplotlib as mpl\n",
    "import matplotlib.pyplot as plt\n",
    "from matplotlib.gridspec import GridSpec\n",
    "import numpy as np\n",
    "%matplotlib inline\n",
    "import tqdm\n",
    "from scipy.stats import beta, binned_statistic\n",
    "\n",
    "from thejoker import JokerSamples\n",
    "\n",
    "from twoface.config import TWOFACE_CACHE_PATH\n",
    "from twoface.samples_analysis import MAP_sample\n",
    "from twoface.db import (db_connect, AllStar, AllVisit, AllVisitToAllStar, NessRG,\n",
    "                        StarResult, Status, JokerRun)\n",
    "from twoface.plot import plot_two_panel, plot_phase_fold\n",
    "from twoface.mass import get_m2_min, mf, period_at_surface, asini, stellar_radius\n",
    "from twoface.log import log as logger\n",
    "logger.setLevel(100)\n",
    "from twoface.ext import hatlc"
   ]
  },
  {
   "cell_type": "code",
   "execution_count": null,
   "metadata": {},
   "outputs": [],
   "source": [
    "plot_path = '../paper/figures/'\n",
    "# table_path = '../data/'\n",
    "table_path = '../../twoface/paper/1-catalog/tables/'"
   ]
  },
  {
   "cell_type": "code",
   "execution_count": null,
   "metadata": {},
   "outputs": [],
   "source": [
    "unimodal = QTable.read(path.join(table_path, 'highK-unimodal.fits'), character_as_bytes=False)\n",
    "clean_uni = unimodal[ (unimodal['clean_flag'] == 0) & (unimodal['converged'])]\n",
    "high_logg = clean_uni[clean_uni['LOGG'] > 2]\n",
    "print('{0} unimodal, {1} clean, {2} high logg'\n",
    "      .format(len(unimodal), len(clean_uni), len(high_logg)))"
   ]
  },
  {
   "cell_type": "code",
   "execution_count": null,
   "metadata": {},
   "outputs": [],
   "source": [
    "hat = ascii.read('../../twoface/data/hatnet-apogee-xmatch/hatnet-apogee-lcmatches.csv')\n",
    "hat.rename_column('apogee_id', 'APOGEE_ID')\n",
    "catalog = join(high_logg, hat, keys='APOGEE_ID')"
   ]
  },
  {
   "cell_type": "code",
   "execution_count": null,
   "metadata": {
    "scrolled": false
   },
   "outputs": [],
   "source": [
    "for row in catalog:\n",
    "    fn = '../../twoface/data/hatnet-apogee-xmatch/{0}-V0-DR0-hatlc.sqlite.gz'.format(row['hatid'])\n",
    "\n",
    "    lc, msg = hatlc.read_and_filter_sqlitecurve(fn)\n",
    "\n",
    "    t = Time(lc['bjd'], format='jd', scale='tcb')\n",
    "\n",
    "    normlcd = hatlc.normalize_lcdict(lc)\n",
    "    mags, errs = normlcd['atf_000'], normlcd['aie_000']\n",
    "    \n",
    "    clean_mask = np.isfinite(mags) & np.isfinite(errs)\n",
    "    t = t[clean_mask]\n",
    "    mags = mags[clean_mask]\n",
    "    errs = errs[clean_mask]\n",
    "    \n",
    "    if len(mags) == 0:\n",
    "        continue\n",
    "        \n",
    "    ls = LombScargle(t.mjd, mags, errs)\n",
    "    frequency, power = ls.autopower()\n",
    "    P = 1 / frequency[power.argmax()]\n",
    "    print(P, row['P'], row['P_err'])\n",
    "    \n",
    "    fig, axes = plt.subplots(3, 1, figsize=(8, 12), sharey=True)\n",
    "    \n",
    "    ax = axes[0]\n",
    "    for flt in np.unique(lc['flt'][clean_mask]):\n",
    "        mask = lc['flt'][clean_mask] == flt\n",
    "        ax.errorbar(t.mjd[mask], mags[mask], errs[mask], \n",
    "                    linestyle='none', marker='.', alpha=0.1, )\n",
    "    \n",
    "    ax = axes[1]\n",
    "    for flt in np.unique(lc['flt'][clean_mask]):\n",
    "        mask = lc['flt'][clean_mask] == flt\n",
    "        ax.errorbar((t.mjd[mask] / row['P'].value) % 1., mags[mask], errs[mask], \n",
    "                    linestyle='none', marker='.', alpha=0.1, )\n",
    "        \n",
    "    ax = axes[2]\n",
    "    ax.errorbar((t.mjd / P) % 1., mags, errs, \n",
    "                linestyle='none', marker='.', alpha=0.1, )\n",
    "    \n",
    "    med = np.nanmedian(mags)\n",
    "    mad = median_absolute_deviation(mags, ignore_nan=True)\n",
    "    ax.set_ylim(med + 0.2, med - 0.2)"
   ]
  },
  {
   "cell_type": "code",
   "execution_count": null,
   "metadata": {},
   "outputs": [],
   "source": []
  },
  {
   "cell_type": "code",
   "execution_count": null,
   "metadata": {
    "collapsed": true
   },
   "outputs": [],
   "source": []
  }
 ],
 "metadata": {
  "kernelspec": {
   "display_name": "Python [conda env:twoface]",
   "language": "python",
   "name": "conda-env-twoface-py"
  },
  "language_info": {
   "codemirror_mode": {
    "name": "ipython",
    "version": 3
   },
   "file_extension": ".py",
   "mimetype": "text/x-python",
   "name": "python",
   "nbconvert_exporter": "python",
   "pygments_lexer": "ipython3",
   "version": "3.6.2"
  }
 },
 "nbformat": 4,
 "nbformat_minor": 2
}